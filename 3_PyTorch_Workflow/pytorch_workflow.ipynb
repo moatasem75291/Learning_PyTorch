{
 "cells": [
  {
   "cell_type": "code",
   "execution_count": 2,
   "id": "6b338808-b2cd-407f-a91b-60d62d6203bc",
   "metadata": {},
   "outputs": [],
   "source": [
    "import torch\n",
    "from torch import nn\n",
    "import matplotlib.pyplot as plt"
   ]
  },
  {
   "cell_type": "markdown",
   "id": "b9a8ee06-fedc-43a2-9d80-6ea9d38820fd",
   "metadata": {},
   "source": [
    "# Data Preparing and Loading\n",
    "1. Data Can be anything:\n",
    "    * Exceptionle\n",
    "    * Images\n",
    "    * videos\n",
    "    * Audio\n",
    "    * DNA\n",
    "    * Text\n",
    "2. Machine Learining is:\n",
    "    * Git data in numerical representation\n",
    "    * Build a model to learn patterns in the numerical representation."
   ]
  },
  {
   "cell_type": "code",
   "execution_count": 3,
   "id": "8d49f0c7-97c1-47ed-a224-a0cc835c2475",
   "metadata": {},
   "outputs": [],
   "source": [
    "# Linear Regression formula\n",
    "weight = 0.7\n",
    "bias = 0.3\n",
    "\n",
    "start = 0\n",
    "end = 1\n",
    "step = 0.02\n",
    "\n",
    "X = torch.arange(start, end, step).unsqueeze(dim=1)\n",
    "y = weight * X + bias"
   ]
  },
  {
   "cell_type": "code",
   "execution_count": 4,
   "id": "ecd9716d-2e5c-4844-a415-f6bcb6adb800",
   "metadata": {},
   "outputs": [
    {
     "data": {
      "text/plain": [
       "(torch.Size([50, 1]), torch.Size([50, 1]))"
      ]
     },
     "execution_count": 4,
     "metadata": {},
     "output_type": "execute_result"
    }
   ],
   "source": [
    "X.shape, y.shape"
   ]
  },
  {
   "cell_type": "code",
   "execution_count": 5,
   "id": "7e5454d3-4b60-4b08-8804-8a931ef9fcac",
   "metadata": {},
   "outputs": [
    {
     "data": {
      "text/plain": [
       "(tensor([[0.0000],\n",
       "         [0.0200],\n",
       "         [0.0400],\n",
       "         [0.0600],\n",
       "         [0.0800]]),\n",
       " tensor([[0.3000],\n",
       "         [0.3140],\n",
       "         [0.3280],\n",
       "         [0.3420],\n",
       "         [0.3560]]))"
      ]
     },
     "execution_count": 5,
     "metadata": {},
     "output_type": "execute_result"
    }
   ],
   "source": [
    "X[:5], y[:5]"
   ]
  },
  {
   "cell_type": "code",
   "execution_count": 6,
   "id": "41c5fc5e-a1c2-4507-afb9-8459cdcb822b",
   "metadata": {},
   "outputs": [
    {
     "data": {
      "text/plain": [
       "(50, 50)"
      ]
     },
     "execution_count": 6,
     "metadata": {},
     "output_type": "execute_result"
    }
   ],
   "source": [
    "len(X), len(y)"
   ]
  },
  {
   "cell_type": "markdown",
   "id": "c58fc91e-13e3-4bdd-a962-d6c2425405e5",
   "metadata": {},
   "source": [
    "# Splitting Data into Training and testing set."
   ]
  },
  {
   "cell_type": "code",
   "execution_count": 7,
   "id": "fe3ecd4c-a274-4406-8e61-fc471f675295",
   "metadata": {},
   "outputs": [],
   "source": [
    "train_split = int(0.8 * len(X))\n",
    "X_train, y_train = X[:train_split], y[:train_split]\n",
    "X_test, y_test = X[train_split:], y[train_split:]"
   ]
  },
  {
   "cell_type": "code",
   "execution_count": 8,
   "id": "ac032efb-c28b-49d5-8ed4-dc9c3cacae4e",
   "metadata": {},
   "outputs": [
    {
     "data": {
      "text/plain": [
       "((40, 40), (10, 10))"
      ]
     },
     "execution_count": 8,
     "metadata": {},
     "output_type": "execute_result"
    }
   ],
   "source": [
    "(len(X_train), len(y_train)), (len(X_test), len(y_test)) "
   ]
  },
  {
   "cell_type": "code",
   "execution_count": 61,
   "id": "454baf1d-dba2-4bfc-9a29-df4c0001d0a5",
   "metadata": {},
   "outputs": [],
   "source": [
    "# Plot predictions\n",
    "def plot_predictions(\n",
    "    train_data=X_train,\n",
    "    train_label=y_train,\n",
    "    test_data=X_test,\n",
    "    test_label=y_test,\n",
    "    predictions=None\n",
    "):\n",
    "    plt.figure(figsize=(8, 5))\n",
    "\n",
    "    plt.scatter(X_train, y_train, c=\"b\", s=6, label=\"Training Data\")\n",
    "\n",
    "    plt.scatter(X_test, y_test, c=\"g\", s=5, label=\"Testing Data\")\n",
    "\n",
    "    if predictions is not None:\n",
    "        plt.scatter(X_test, predictions, c=\"r\", s=8, label=\"Predictions\")\n",
    "    plt.legend(prop={\"size\":14})"
   ]
  },
  {
   "cell_type": "code",
   "execution_count": 10,
   "id": "f1b28f53-03fc-467f-9115-825d5d038d5e",
   "metadata": {},
   "outputs": [
    {
     "data": {
      "image/png": "[encoded data removed]",
      "text/plain": [
       "<Figure size 800x500 with 1 Axes>"
      ]
     },
     "metadata": {},
     "output_type": "display_data"
    }
   ],
   "source": [
    "plot_predictions(X_train, y_train, X_test, y_test)"
   ]
  },
  {
   "cell_type": "markdown",
   "id": "27de97b0-92b7-4002-9184-8def07000c15",
   "metadata": {},
   "source": [
    "# Build a model\n",
    "* Our first PyTorch Model, Create `Linear Regression` model class"
   ]
  },
  {
   "cell_type": "code",
   "execution_count": 11,
   "id": "d52dbcf4-70b2-4850-824b-1f9c9f300daa",
   "metadata": {},
   "outputs": [],
   "source": [
    "class LinearRegressionModel(nn.Module):\n",
    "    def __init__(self):\n",
    "        super().__init__()\n",
    "\n",
    "        self.weights = nn.Parameter(torch.randn(\n",
    "            1,\n",
    "            requires_grad=True,\n",
    "            dtype=torch.float\n",
    "        ))\n",
    "        self.bias = nn.Parameter(torch.randn(\n",
    "            1,\n",
    "            requires_grad=True,\n",
    "            dtype=torch.float\n",
    "        ))\n",
    "\n",
    "    def forward(self, x:torch.tensor) -> torch.tensor:\n",
    "        return self.weights * x + self.bias"
   ]
  },
  {
   "cell_type": "markdown",
   "id": "a5b974ef-feb2-4394-9ba1-de09c52de47c",
   "metadata": {},
   "source": [
    "# Checking the content of our PyTorch Model"
   ]
  },
  {
   "cell_type": "code",
   "execution_count": 12,
   "id": "f070fb10-27fc-4361-b4df-a9bbd2ab88bd",
   "metadata": {},
   "outputs": [
    {
     "data": {
      "text/plain": [
       "[Parameter containing:\n",
       " tensor([0.3367], requires_grad=True),\n",
       " Parameter containing:\n",
       " tensor([0.1288], requires_grad=True)]"
      ]
     },
     "execution_count": 12,
     "metadata": {},
     "output_type": "execute_result"
    }
   ],
   "source": [
    "torch.manual_seed(42)\n",
    "\n",
    "model_0 = LinearRegressionModel()\n",
    "\n",
    "list(model_0.parameters())"
   ]
  },
  {
   "cell_type": "code",
   "execution_count": 13,
   "id": "c02c5de2-9925-427c-bb92-44952a69574d",
   "metadata": {},
   "outputs": [
    {
     "data": {
      "text/plain": [
       "{'weights': tensor([0.3367]), 'bias': tensor([0.1288])}"
      ]
     },
     "execution_count": 13,
     "metadata": {},
     "output_type": "execute_result"
    }
   ],
   "source": [
    "dict(model_0.state_dict())"
   ]
  },
  {
   "cell_type": "markdown",
   "id": "3ca5d39b-28bb-4468-90f6-1d04713907e1",
   "metadata": {},
   "source": [
    "## Make Predictions with model"
   ]
  },
  {
   "cell_type": "code",
   "execution_count": 14,
   "id": "28d1109e-685b-4c48-89e2-b26493918bae",
   "metadata": {},
   "outputs": [],
   "source": [
    "with torch.inference_mode():\n",
    "    y_preds = model_0(X_test)"
   ]
  },
  {
   "cell_type": "code",
   "execution_count": 15,
   "id": "2a9db185-d92d-4c9e-87d1-2caf5a96242a",
   "metadata": {
    "scrolled": true
   },
   "outputs": [
    {
     "data": {
      "text/plain": [
       "tensor([[0.3982],\n",
       "        [0.4049],\n",
       "        [0.4116],\n",
       "        [0.4184],\n",
       "        [0.4251],\n",
       "        [0.4318],\n",
       "        [0.4386],\n",
       "        [0.4453],\n",
       "        [0.4520],\n",
       "        [0.4588]])"
      ]
     },
     "execution_count": 15,
     "metadata": {},
     "output_type": "execute_result"
    }
   ],
   "source": [
    "y_preds"
   ]
  },
  {
   "cell_type": "code",
   "execution_count": 16,
   "id": "9d823a0d-ab45-4b13-bb39-c6fb79b21a19",
   "metadata": {},
   "outputs": [
    {
     "data": {
      "image/png": "[encoded data removed]",
      "text/plain": [
       "<Figure size 800x500 with 1 Axes>"
      ]
     },
     "metadata": {},
     "output_type": "display_data"
    }
   ],
   "source": [
    "plot_predictions(X_train, y_train, X_test, y_test, y_preds)"
   ]
  },
  {
   "cell_type": "markdown",
   "id": "2dd65913-92c9-4cb7-9430-727c1373fc8b",
   "metadata": {},
   "source": [
    "# Train Model\n",
    "Things we need to train:\n",
    "* **Loss Function:** A function to measure how wrong your model's predictions are to the ideal outputs.\n",
    "* **optimizer:** is a function or an algorithm that adjusts the attributes of the neural network, such as weights and learning rates. Thus, it helps in reducing the overall loss and improving accuracy\n",
    "\n",
    "Specificially for PyTorch we need: \n",
    "* A training loop\n",
    "* A testing loop"
   ]
  },
  {
   "cell_type": "code",
   "execution_count": 17,
   "id": "d3895ce9-d8b1-4f2f-921b-8d37ba2d077f",
   "metadata": {},
   "outputs": [
    {
     "data": {
      "text/plain": [
       "[Parameter containing:\n",
       " tensor([0.3367], requires_grad=True),\n",
       " Parameter containing:\n",
       " tensor([0.1288], requires_grad=True)]"
      ]
     },
     "execution_count": 17,
     "metadata": {},
     "output_type": "execute_result"
    }
   ],
   "source": [
    "list(model_0.parameters())"
   ]
  },
  {
   "cell_type": "code",
   "execution_count": 18,
   "id": "0fd19f08-8065-45e4-b608-e5bf6ac53d3b",
   "metadata": {},
   "outputs": [
    {
     "data": {
      "text/plain": [
       "{'weights': tensor([0.3367]), 'bias': tensor([0.1288])}"
      ]
     },
     "execution_count": 18,
     "metadata": {},
     "output_type": "execute_result"
    }
   ],
   "source": [
    "dict(model_0.state_dict())"
   ]
  },
  {
   "cell_type": "code",
   "execution_count": 19,
   "id": "7ed833f1-8cbb-47c4-b598-fcd822a8a54a",
   "metadata": {},
   "outputs": [],
   "source": [
    "## Set up a Loos Function\n",
    "loss = torch.nn.L1Loss()"
   ]
  },
  {
   "cell_type": "code",
   "execution_count": 20,
   "id": "7db293a4-f3e6-4473-81ae-fa48f3ccdf1b",
   "metadata": {},
   "outputs": [
    {
     "name": "stderr",
     "output_type": "stream",
     "text": [
      "C:\\Users\\MBR\\AppData\\Local\\Programs\\Python\\Python310\\lib\\site-packages\\tqdm\\auto.py:22: TqdmWarning: IProgress not found. Please update jupyter and ipywidgets. See https://ipywidgets.readthedocs.io/en/stable/user_install.html\n",
      "  from .autonotebook import tqdm as notebook_tqdm\n"
     ]
    }
   ],
   "source": [
    "## Set up an optimizer\n",
    "optimizer = torch.optim.SGD(\n",
    "    model_0.parameters(),\n",
    "    lr=0.01,   \n",
    ")"
   ]
  },
  {
   "cell_type": "markdown",
   "id": "e36065a5-5e44-4ca2-a1a4-ea26f97e21f8",
   "metadata": {},
   "source": [
    "# Building a training and testing loop in PyTorch.\n",
    "1. **Loop through the data**\n",
    "2. **Forward pass** to calculate the predictions on data\n",
    "3. Calculate the **loss** _compare the predictions to the actual labels_\n",
    "4. **Optimizer zero grad**\n",
    "5. **Loss Backward** _move backward through the network to calculate the gradients_ `backpropagation`\n",
    "6. **Optimizer step** `gradien descent`"
   ]
  },
  {
   "cell_type": "code",
   "execution_count": 21,
   "id": "08a11fba-1e9b-487e-a78b-daaf5f6912df",
   "metadata": {},
   "outputs": [
    {
     "name": "stdout",
     "output_type": "stream",
     "text": [
      "Epoch: 0 | Loss: 0.31288138031959534 | Test Loss: 0.48106518387794495\n",
      "Parameters: {'weights': tensor([0.3406]), 'bias': tensor([0.1388])}\n",
      "Epoch: 10 | Loss: 0.1976713240146637 | Test Loss: 0.3463551998138428\n",
      "Parameters: {'weights': tensor([0.3796]), 'bias': tensor([0.2388])}\n",
      "Epoch: 20 | Loss: 0.08908725529909134 | Test Loss: 0.21729660034179688\n",
      "Parameters: {'weights': tensor([0.4184]), 'bias': tensor([0.3333])}\n",
      "Epoch: 30 | Loss: 0.053148526698350906 | Test Loss: 0.14464017748832703\n",
      "Parameters: {'weights': tensor([0.4512]), 'bias': tensor([0.3768])}\n",
      "Epoch: 40 | Loss: 0.04543796554207802 | Test Loss: 0.11360953003168106\n",
      "Parameters: {'weights': tensor([0.4748]), 'bias': tensor([0.3868])}\n",
      "Epoch: 50 | Loss: 0.04167863354086876 | Test Loss: 0.09919948130846024\n",
      "Parameters: {'weights': tensor([0.4938]), 'bias': tensor([0.3843])}\n",
      "Epoch: 60 | Loss: 0.03818932920694351 | Test Loss: 0.08886633068323135\n",
      "Parameters: {'weights': tensor([0.5116]), 'bias': tensor([0.3788])}\n",
      "Epoch: 70 | Loss: 0.03476089984178543 | Test Loss: 0.0805937647819519\n",
      "Parameters: {'weights': tensor([0.5288]), 'bias': tensor([0.3718])}\n",
      "Epoch: 80 | Loss: 0.03132382780313492 | Test Loss: 0.07232122868299484\n",
      "Parameters: {'weights': tensor([0.5459]), 'bias': tensor([0.3648])}\n",
      "Epoch: 90 | Loss: 0.02788739837706089 | Test Loss: 0.06473556160926819\n",
      "Parameters: {'weights': tensor([0.5629]), 'bias': tensor([0.3573])}\n",
      "Epoch: 100 | Loss: 0.024458957836031914 | Test Loss: 0.05646304413676262\n",
      "Parameters: {'weights': tensor([0.5800]), 'bias': tensor([0.3503])}\n",
      "Epoch: 110 | Loss: 0.021020207554101944 | Test Loss: 0.04819049686193466\n",
      "Parameters: {'weights': tensor([0.5972]), 'bias': tensor([0.3433])}\n",
      "Epoch: 120 | Loss: 0.01758546568453312 | Test Loss: 0.04060482233762741\n",
      "Parameters: {'weights': tensor([0.6141]), 'bias': tensor([0.3358])}\n",
      "Epoch: 130 | Loss: 0.014155393466353416 | Test Loss: 0.03233227878808975\n",
      "Parameters: {'weights': tensor([0.6313]), 'bias': tensor([0.3288])}\n",
      "Epoch: 140 | Loss: 0.010716589167714119 | Test Loss: 0.024059748277068138\n",
      "Parameters: {'weights': tensor([0.6485]), 'bias': tensor([0.3218])}\n",
      "Epoch: 150 | Loss: 0.0072835334576666355 | Test Loss: 0.016474086791276932\n",
      "Parameters: {'weights': tensor([0.6654]), 'bias': tensor([0.3143])}\n",
      "Epoch: 160 | Loss: 0.0038517764769494534 | Test Loss: 0.008201557211577892\n",
      "Parameters: {'weights': tensor([0.6826]), 'bias': tensor([0.3073])}\n",
      "Epoch: 170 | Loss: 0.008932482451200485 | Test Loss: 0.005023092031478882\n",
      "Parameters: {'weights': tensor([0.6951]), 'bias': tensor([0.2993])}\n",
      "Epoch: 180 | Loss: 0.008932482451200485 | Test Loss: 0.005023092031478882\n",
      "Parameters: {'weights': tensor([0.6951]), 'bias': tensor([0.2993])}\n",
      "Epoch: 190 | Loss: 0.008932482451200485 | Test Loss: 0.005023092031478882\n",
      "Parameters: {'weights': tensor([0.6951]), 'bias': tensor([0.2993])}\n"
     ]
    }
   ],
   "source": [
    "torch.manual_seed(42)\n",
    "epochs = 200\n",
    "\n",
    "epoch_count = []\n",
    "train_loss = []\n",
    "test_loss = []\n",
    "\n",
    "for epoch in range(epochs):\n",
    "# Training\n",
    "    model_0.train()\n",
    "\n",
    "    # Forward path\n",
    "    y_pred = model_0(X_train)\n",
    "\n",
    "    # Calculate loss\n",
    "    loss_out = loss(y_pred, y_train)\n",
    "\n",
    "    # Optimizer zero grad\n",
    "    optimizer.zero_grad()\n",
    "\n",
    "    # Loss Backward\n",
    "    loss_out.backward()\n",
    "\n",
    "    # Optimizer step\n",
    "    optimizer.step()\n",
    "# Testing\n",
    "    model_0.eval()\n",
    "\n",
    "    with torch.inference_mode():\n",
    "        y_pred_test = model_0(X_test)\n",
    "        loss_test = loss(y_pred_test, y_test)\n",
    "\n",
    "    if epoch % 10 == 0:\n",
    "        epoch_count.append(epoch)\n",
    "        train_loss.append(loss_out.item())\n",
    "        test_loss.append(loss_test.item())\n",
    "        print(f\"Epoch: {epoch} | Loss: {loss_out} | Test Loss: {loss_test}\")\n",
    "        print(f\"Parameters: {dict(model_0.state_dict())}\")"
   ]
  },
  {
   "cell_type": "code",
   "execution_count": 22,
   "id": "6bf50bb3-1d31-4c9d-803e-380eb3ff8bb6",
   "metadata": {},
   "outputs": [],
   "source": [
    "with torch.inference_mode():\n",
    "    y_pred_new = model_0(X_test)"
   ]
  },
  {
   "cell_type": "code",
   "execution_count": 23,
   "id": "4d54a38a-daf4-4673-aa0d-878e9201d0e5",
   "metadata": {},
   "outputs": [
    {
     "data": {
      "image/png": "[encoded data removed]",
      "text/plain": [
       "<Figure size 800x500 with 1 Axes>"
      ]
     },
     "metadata": {},
     "output_type": "display_data"
    }
   ],
   "source": [
    "plot_predictions(predictions=y_pred_new)"
   ]
  },
  {
   "cell_type": "markdown",
   "id": "0bb84c79-a379-405e-8075-839b6af5053c",
   "metadata": {},
   "source": [
    "#### We are now getting closer, it's amazing, wonderful!!"
   ]
  },
  {
   "cell_type": "markdown",
   "id": "767c7c0f-ea79-4e03-b902-26505289c551",
   "metadata": {},
   "source": [
    "# Plot the Loss Curve"
   ]
  },
  {
   "cell_type": "code",
   "execution_count": 24,
   "id": "6d9a93e6-4605-4039-b70c-7567beb8a3a4",
   "metadata": {},
   "outputs": [
    {
     "data": {
      "text/plain": [
       "<matplotlib.legend.Legend at 0x24a37271690>"
      ]
     },
     "execution_count": 24,
     "metadata": {},
     "output_type": "execute_result"
    },
    {
     "data": {
      "image/png": "[encoded data removed]",
      "text/plain": [
       "<Figure size 640x480 with 1 Axes>"
      ]
     },
     "metadata": {},
     "output_type": "display_data"
    }
   ],
   "source": [
    "plt.plot(epoch_count, train_loss, label=\"Train Loss\")\n",
    "plt.plot(epoch_count, test_loss, label=\"Test Loss\")\n",
    "plt.title(\"Training and Testing Loss Curves.\")\n",
    "plt.xlabel(\"Epochs\")\n",
    "plt.ylabel(\"Losses\")\n",
    "plt.legend()"
   ]
  },
  {
   "cell_type": "markdown",
   "id": "34e3e490-505b-4964-a8ba-c656a1fee29f",
   "metadata": {},
   "source": [
    "# Saving & Loading a model in PyTorch\n",
    "* There are three main methods you should about for saving and loading models in PyTorch.\n",
    "    * `torch.save()` Can save any serializable object in Python, including models, tensors, dictionaries, and other data structures.\n",
    "    * `torch.load()` Allows you to load asaved PyTorch object.\n",
    "    * `torch.nn.Module.load_state_dict()` Returns a dictionary containing the state of the module, including parameters and persistent buffers"
   ]
  },
  {
   "cell_type": "code",
   "execution_count": 27,
   "id": "16801349-6151-479a-ba7b-f81e043551cc",
   "metadata": {},
   "outputs": [],
   "source": [
    "from pathlib import Path\n",
    "\n",
    "# 1.Create a Direcory\n",
    "MODEL_PATH = Path(\"models\")\n",
    "MODEL_PATH.mkdir(exist_ok=True, parents=True)\n",
    "\n",
    "# 2.Create model save path\n",
    "MODEL_NAME = \"pytorch_workflow_model_0.pth\"\n",
    "MODEL_SAVE_PATH = MODEL_PATH / MODEL_NAME\n",
    "\n",
    "# 3.Save the model \n",
    "torch.save(model_0.state_dict(), MODEL_SAVE_PATH)"
   ]
  },
  {
   "cell_type": "code",
   "execution_count": 28,
   "id": "a69e6395-2902-4606-87f3-a46cdbcecafe",
   "metadata": {},
   "outputs": [
    {
     "data": {
      "text/plain": [
       "<All keys matched successfully>"
      ]
     },
     "execution_count": 28,
     "metadata": {},
     "output_type": "execute_result"
    }
   ],
   "source": [
    "# Instantiate a new instance from the model\n",
    "loaded_model_0 = LinearRegressionModel()\n",
    "\n",
    "# Load the saved state_dict \n",
    "loaded_model_0.load_state_dict(torch.load(MODEL_SAVE_PATH))"
   ]
  },
  {
   "cell_type": "code",
   "execution_count": 29,
   "id": "81675105-fd07-404e-a57c-9b6f0f84eba6",
   "metadata": {},
   "outputs": [
    {
     "data": {
      "text/plain": [
       "{'weights': tensor([0.6990]), 'bias': tensor([0.3093])}"
      ]
     },
     "execution_count": 29,
     "metadata": {},
     "output_type": "execute_result"
    }
   ],
   "source": [
    "dict(loaded_model_0.state_dict())"
   ]
  },
  {
   "cell_type": "markdown",
   "id": "216dde83-57c7-4e9e-9456-f345c0022958",
   "metadata": {},
   "source": [
    "# Make Some Predictions with our Loaded Model"
   ]
  },
  {
   "cell_type": "code",
   "execution_count": 35,
   "id": "9d744c5d-5b86-41ad-b321-916cdcab9f66",
   "metadata": {},
   "outputs": [
    {
     "data": {
      "text/plain": [
       "tensor([[0.8685],\n",
       "        [0.8825],\n",
       "        [0.8965],\n",
       "        [0.9105],\n",
       "        [0.9245],\n",
       "        [0.9384],\n",
       "        [0.9524],\n",
       "        [0.9664],\n",
       "        [0.9804],\n",
       "        [0.9944]])"
      ]
     },
     "execution_count": 35,
     "metadata": {},
     "output_type": "execute_result"
    }
   ],
   "source": [
    "loaded_model_0.eval()\n",
    "with torch.inference_mode():\n",
    "    loaded_model_preds = loaded_model_0(X_test)\n",
    "\n",
    "loaded_model_preds"
   ]
  },
  {
   "cell_type": "code",
   "execution_count": 33,
   "id": "a238f6c6-b698-4e6c-b5c6-81f25034ef08",
   "metadata": {},
   "outputs": [
    {
     "data": {
      "text/plain": [
       "tensor([[0.8685],\n",
       "        [0.8825],\n",
       "        [0.8965],\n",
       "        [0.9105],\n",
       "        [0.9245],\n",
       "        [0.9384],\n",
       "        [0.9524],\n",
       "        [0.9664],\n",
       "        [0.9804],\n",
       "        [0.9944]])"
      ]
     },
     "execution_count": 33,
     "metadata": {},
     "output_type": "execute_result"
    }
   ],
   "source": [
    "y_pred_test"
   ]
  },
  {
   "cell_type": "code",
   "execution_count": 42,
   "id": "9badc743-692c-4a7f-bf03-9f29f256e5a9",
   "metadata": {},
   "outputs": [
    {
     "data": {
      "text/plain": [
       "True"
      ]
     },
     "execution_count": 42,
     "metadata": {},
     "output_type": "execute_result"
    }
   ],
   "source": [
    "all(loaded_model_preds == y_pred_test)"
   ]
  },
  {
   "cell_type": "markdown",
   "id": "895b4061-94c1-4311-8e20-085bb13d1c24",
   "metadata": {},
   "source": [
    "# Putting all together"
   ]
  },
  {
   "cell_type": "markdown",
   "id": "b4d87354-be3d-4fb2-926c-93d632ce1b73",
   "metadata": {},
   "source": [
    "## Data & Libraries"
   ]
  },
  {
   "cell_type": "code",
   "execution_count": 55,
   "id": "ba990835-1dfb-45a5-bd38-2d518d145d07",
   "metadata": {},
   "outputs": [],
   "source": [
    "import torch\n",
    "from torch import nn\n",
    "import matplotlib.pyplot as plt \n",
    "from sklearn.model_selection import train_test_split\n",
    "\n",
    "device = torch.device(\"cuda\") if torch.cuda.is_available() else torch.device(\"cpu\")"
   ]
  },
  {
   "cell_type": "code",
   "execution_count": 108,
   "id": "d35be452-c64a-4b97-a2d3-484e99bd1f11",
   "metadata": {},
   "outputs": [],
   "source": [
    "weight = 0.9\n",
    "bias = 0.1\n",
    "\n",
    "start = 0\n",
    "end = 2\n",
    "step = 0.025\n",
    "\n",
    "X = torch.arange(start, end, step).unsqueeze(dim=1)\n",
    "y = weight * X + bias"
   ]
  },
  {
   "cell_type": "code",
   "execution_count": 112,
   "id": "87fc07d8-4894-4fa4-8cac-b96437221341",
   "metadata": {},
   "outputs": [],
   "source": [
    "# splitting the data \n",
    "splitter_test_ratio = int(0.2 * len(X))\n",
    "X_train, X_test, y_train, y_test = train_test_split(X, y, test_size=splitter_test_ratio, shuffle=True)"
   ]
  },
  {
   "cell_type": "code",
   "execution_count": 113,
   "id": "d3503d9c-60c6-426f-8f7b-783e232da569",
   "metadata": {},
   "outputs": [],
   "source": [
    "# Plot predictions\n",
    "def plot_predictions(\n",
    "    train_data=X_train,\n",
    "    train_label=y_train,\n",
    "    test_data=X_test,\n",
    "    test_label=y_test,\n",
    "    predictions=None\n",
    "):\n",
    "    plt.figure(figsize=(8, 5))\n",
    "\n",
    "    plt.scatter(X_train, y_train, c=\"b\", s=6, label=\"Training Data\")\n",
    "\n",
    "    plt.scatter(X_test, y_test, c=\"g\", s=5, label=\"Testing Data\")\n",
    "\n",
    "    if predictions is not None:\n",
    "        plt.scatter(X_test, predictions, c=\"r\", s=8, label=\"Predictions\")\n",
    "    plt.legend(prop={\"size\":14})"
   ]
  },
  {
   "cell_type": "code",
   "execution_count": 114,
   "id": "5250d18c-9ea0-480c-a63c-e71feed199a3",
   "metadata": {},
   "outputs": [
    {
     "data": {
      "image/png": "[encoded data removed]",
      "text/plain": [
       "<Figure size 800x500 with 1 Axes>"
      ]
     },
     "metadata": {},
     "output_type": "display_data"
    }
   ],
   "source": [
    "plot_predictions()"
   ]
  },
  {
   "cell_type": "markdown",
   "id": "c2980511-ed36-4b36-9616-a81eab4dae6a",
   "metadata": {},
   "source": [
    "## Building the Regression Model"
   ]
  },
  {
   "cell_type": "code",
   "execution_count": 115,
   "id": "a1ec9df9-350d-461b-a985-23438d0e2925",
   "metadata": {},
   "outputs": [
    {
     "data": {
      "text/plain": [
       "{'linear_layer.weight': tensor([[0.7645]]),\n",
       " 'linear_layer.bias': tensor([0.8300])}"
      ]
     },
     "execution_count": 115,
     "metadata": {},
     "output_type": "execute_result"
    }
   ],
   "source": [
    "class LinearRegressionModelV2(nn.Module):\n",
    "    def __init__(self):\n",
    "        super().__init__()\n",
    "        self.linear_layer = nn.Linear(in_features=X_train.shape[1], out_features=y_train.shape[1])\n",
    "\n",
    "    def forward(self, x:torch.tensor) -> torch.tensor:\n",
    "        return self.linear_layer(x)\n",
    "\n",
    "torch.manual_seed(42)\n",
    "model_1 = LinearRegressionModelV2()\n",
    "dict(model_1.state_dict())"
   ]
  },
  {
   "cell_type": "code",
   "execution_count": 116,
   "id": "95626aca-29d2-4294-b204-86ece155f5ac",
   "metadata": {},
   "outputs": [
    {
     "data": {
      "image/png": "[encoded data removed]",
      "text/plain": [
       "<Figure size 800x500 with 1 Axes>"
      ]
     },
     "metadata": {},
     "output_type": "display_data"
    }
   ],
   "source": [
    "plot_predictions(predictions=model_1(X_test).detach().numpy())"
   ]
  },
  {
   "cell_type": "code",
   "execution_count": 117,
   "id": "0918dcf9-2a98-4649-a822-e03703e258e0",
   "metadata": {
    "scrolled": true
   },
   "outputs": [
    {
     "data": {
      "text/plain": [
       "LinearRegressionModelV2(\n",
       "  (linear_layer): Linear(in_features=1, out_features=1, bias=True)\n",
       ")"
      ]
     },
     "execution_count": 117,
     "metadata": {},
     "output_type": "execute_result"
    }
   ],
   "source": [
    "loss_fn = nn.L1Loss()\n",
    "optimizer = torch.optim.SGD(model_1.parameters(), lr=0.01)\n",
    "X_train = X_train.to(device)\n",
    "X_test = X_test.to(device)\n",
    "y_train = y_train.to(device)\n",
    "y_test = y_test.to(device)\n",
    "model_1.to(device)"
   ]
  },
  {
   "cell_type": "markdown",
   "id": "8f193384-28db-432d-a840-350fc7e183c2",
   "metadata": {},
   "source": [
    "## Training & Evaluations"
   ]
  },
  {
   "cell_type": "code",
   "execution_count": 118,
   "id": "efb9099f-1e8b-40c8-8558-d4bbf1bd6906",
   "metadata": {
    "scrolled": true
   },
   "outputs": [
    {
     "name": "stdout",
     "output_type": "stream",
     "text": [
      "Epoch: 0 | Loss: 0.6011078357696533 | Test Loss: 0.5560026168823242\n",
      "Epoch: 10 | Loss: 0.41056063771247864 | Test Loss: 0.3483569622039795\n",
      "Epoch: 20 | Loss: 0.2493007779121399 | Test Loss: 0.18434558808803558\n",
      "Epoch: 30 | Loss: 0.20846132934093475 | Test Loss: 0.16161830723285675\n",
      "Epoch: 40 | Loss: 0.19052410125732422 | Test Loss: 0.15532764792442322\n",
      "Epoch: 50 | Loss: 0.17779675126075745 | Test Loss: 0.14674076437950134\n",
      "Epoch: 60 | Loss: 0.1658058613538742 | Test Loss: 0.13711519539356232\n",
      "Epoch: 70 | Loss: 0.15383291244506836 | Test Loss: 0.1274896264076233\n",
      "Epoch: 80 | Loss: 0.14185993373394012 | Test Loss: 0.11825428903102875\n",
      "Epoch: 90 | Loss: 0.12988698482513428 | Test Loss: 0.10913030803203583\n",
      "Epoch: 100 | Loss: 0.11791402101516724 | Test Loss: 0.10042603313922882\n",
      "Epoch: 110 | Loss: 0.10599865019321442 | Test Loss: 0.09041351079940796\n",
      "Epoch: 120 | Loss: 0.09410832077264786 | Test Loss: 0.08013931661844254\n",
      "Epoch: 130 | Loss: 0.08221795409917831 | Test Loss: 0.0698651373386383\n",
      "Epoch: 140 | Loss: 0.07032764703035355 | Test Loss: 0.05985260009765625\n",
      "Epoch: 150 | Loss: 0.05843798816204071 | Test Loss: 0.04957840219140053\n",
      "Epoch: 160 | Loss: 0.046548351645469666 | Test Loss: 0.0393042117357254\n",
      "Epoch: 170 | Loss: 0.03465870022773743 | Test Loss: 0.029030051082372665\n",
      "Epoch: 180 | Loss: 0.022769056260585785 | Test Loss: 0.018755845725536346\n",
      "Epoch: 190 | Loss: 0.010879401117563248 | Test Loss: 0.008481660857796669\n"
     ]
    }
   ],
   "source": [
    "torch.manual_seed(42)\n",
    "epochs=200\n",
    "count_epochs = []\n",
    "train_losses = []\n",
    "test_losses = []\n",
    "\n",
    "for epoch in range(epochs):\n",
    "    model_1.train()\n",
    "\n",
    "    y_preds = model_1(X_train)\n",
    "    train_loss = loss_fn(y_preds, y_train)\n",
    "\n",
    "    optimizer.zero_grad()\n",
    "    train_loss.backward()\n",
    "    optimizer.step()\n",
    "\n",
    "    model_1.eval()\n",
    "    \n",
    "    with torch.inference_mode():\n",
    "        test_preds = model_1(X_test)\n",
    "        test_loss = loss_fn(test_preds, y_test)\n",
    "\n",
    "    if epoch % 10 == 0:\n",
    "        count_epochs.append(epoch)\n",
    "        train_losses.append(train_loss.item())\n",
    "        test_losses.append(test_loss.item())\n",
    "\n",
    "        print(f\"Epoch: {epoch} | Loss: {train_loss} | Test Loss: {test_loss}\")"
   ]
  },
  {
   "cell_type": "markdown",
   "id": "a125646b-ef0f-451d-acfd-c125f156e731",
   "metadata": {},
   "source": [
    "## Making Predictions (_inference_)"
   ]
  },
  {
   "cell_type": "code",
   "execution_count": 128,
   "id": "cdd586ba-9bac-4039-8e6e-8ffa2ef18d57",
   "metadata": {},
   "outputs": [
    {
     "data": {
      "image/png": "[encoded data removed]",
      "text/plain": [
       "<Figure size 800x500 with 1 Axes>"
      ]
     },
     "metadata": {},
     "output_type": "display_data"
    }
   ],
   "source": [
    "model_1.eval()\n",
    "with torch.inference_mode():\n",
    "    predictions = model_1(X_test)\n",
    "    \n",
    "plot_predictions(predictions=predictions.detach().numpy())"
   ]
  },
  {
   "cell_type": "code",
   "execution_count": 121,
   "id": "cfe7479c-a712-4638-9e1b-9cffd3b450da",
   "metadata": {},
   "outputs": [
    {
     "data": {
      "text/plain": [
       "OrderedDict([('linear_layer.weight', tensor([[0.8947]])),\n",
       "             ('linear_layer.bias', tensor([0.0966]))])"
      ]
     },
     "execution_count": 121,
     "metadata": {},
     "output_type": "execute_result"
    }
   ],
   "source": [
    "model_1.state_dict()"
   ]
  },
  {
   "cell_type": "code",
   "execution_count": 122,
   "id": "6bcbf410-34c3-4be0-b513-c4e0a1e9af89",
   "metadata": {},
   "outputs": [
    {
     "data": {
      "text/plain": [
       "(0.9, 0.1)"
      ]
     },
     "execution_count": 122,
     "metadata": {},
     "output_type": "execute_result"
    }
   ],
   "source": [
    "weight, bias"
   ]
  },
  {
   "cell_type": "markdown",
   "id": "32cecb84-e4e3-483d-856b-6c81a233ad09",
   "metadata": {},
   "source": [
    "## Saving & Loading a model"
   ]
  },
  {
   "cell_type": "code",
   "execution_count": 123,
   "id": "c2422604-cfe8-475f-a0db-95a97c9bc86a",
   "metadata": {},
   "outputs": [],
   "source": [
    "from pathlib import Path\n",
    "\n",
    "MODEL_PATH = Path(\"models\")\n",
    "MODEL_PATH.mkdir(exist_ok=True, parents=True)\n",
    "\n",
    "MODEL_NAME = \"pytorch_workflow_model_1.pth\"\n",
    "MODEL_SAVE_PATH = MODEL_PATH / MODEL_NAME\n",
    "\n",
    "torch.save(model_1.state_dict(), MODEL_SAVE_PATH)"
   ]
  },
  {
   "cell_type": "code",
   "execution_count": 124,
   "id": "a34a161c-2168-4618-8a65-5fbe3e71174d",
   "metadata": {},
   "outputs": [
    {
     "data": {
      "text/plain": [
       "LinearRegressionModelV2(\n",
       "  (linear_layer): Linear(in_features=1, out_features=1, bias=True)\n",
       ")"
      ]
     },
     "execution_count": 124,
     "metadata": {},
     "output_type": "execute_result"
    }
   ],
   "source": [
    "loaded_model_1 = LinearRegressionModelV2()\n",
    "\n",
    "loaded_model_1.load_state_dict(torch.load(MODEL_SAVE_PATH))\n",
    "\n",
    "loaded_model_1.to(device)"
   ]
  },
  {
   "cell_type": "code",
   "execution_count": 131,
   "id": "5b21bd3a-4452-4b7b-8d43-fe62f917dcb1",
   "metadata": {},
   "outputs": [
    {
     "data": {
      "text/plain": [
       "True"
      ]
     },
     "execution_count": 131,
     "metadata": {},
     "output_type": "execute_result"
    }
   ],
   "source": [
    "loaded_model_1.eval()\n",
    "\n",
    "with torch.inference_mode(): \n",
    "    loaded_model_1_preds = loaded_model_1(X_test)\n",
    "\n",
    "all(loaded_model_1_preds == predictions)"
   ]
  }
 ],
 "metadata": {
  "kernelspec": {
   "display_name": "Python 3 (ipykernel)",
   "language": "python",
   "name": "python3"
  },
  "language_info": {
   "codemirror_mode": {
    "name": "ipython",
    "version": 3
   },
   "file_extension": ".py",
   "mimetype": "text/x-python",
   "name": "python",
   "nbconvert_exporter": "python",
   "pygments_lexer": "ipython3",
   "version": "3.10.7"
  }
 },
 "nbformat": 4,
 "nbformat_minor": 5
}
